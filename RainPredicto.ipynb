{
 "cells": [
  {
   "cell_type": "code",
   "execution_count": 2,
   "id": "df6d95c3-88cf-4793-906c-7c038de86352",
   "metadata": {},
   "outputs": [],
   "source": [
    "# Project for the Rainfall Prediction via various parameters like humidity, temperature, etc."
   ]
  },
  {
   "cell_type": "code",
   "execution_count": null,
   "id": "6bc2fc2e-7c0e-4d45-a450-4c50c6333544",
   "metadata": {},
   "outputs": [],
   "source": []
  }
 ],
 "metadata": {
  "kernelspec": {
   "display_name": "Python 3 (ipykernel)",
   "language": "python",
   "name": "python3"
  },
  "language_info": {
   "codemirror_mode": {
    "name": "ipython",
    "version": 3
   },
   "file_extension": ".py",
   "mimetype": "text/x-python",
   "name": "python",
   "nbconvert_exporter": "python",
   "pygments_lexer": "ipython3",
   "version": "3.12.2"
  }
 },
 "nbformat": 4,
 "nbformat_minor": 5
}
